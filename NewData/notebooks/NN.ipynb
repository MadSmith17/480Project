{
 "cells": [
  {
   "cell_type": "markdown",
   "metadata": {},
   "source": [
    "### Step 3: Train the Neural Network (Optional)\n",
    "1. Run all cells to:\n",
    "      * Load `features_dataset.csv`.\n",
    "      * Train the neural network for mood clasification.\n",
    "      * Save outputs:\n",
    "        * `mood_predicting_model.pth`\n",
    "        * `label_encoder.pkl`\n",
    "        * `scaler.pkl`"
   ]
  },
  {
   "cell_type": "code",
   "execution_count": 1,
   "metadata": {},
   "outputs": [],
   "source": [
    "import pandas as pd\n",
    "import torch\n",
    "from sklearn.model_selection import train_test_split\n",
    "from sklearn.preprocessing import StandardScaler, LabelEncoder\n",
    "from torch.utils.data import DataLoader, TensorDataset\n",
    "import torch.nn as nn\n",
    "import torch.nn.functional as F\n",
    "import joblib\n",
    "import pickle\n",
    "import os\n",
    "import matplotlib.pyplot as plt"
   ]
  },
  {
   "cell_type": "code",
   "execution_count": 2,
   "metadata": {},
   "outputs": [],
   "source": [
    "# Load the features dataset\n",
    "file_path = './features_dataset.csv'\n",
    "if not os.path.exists(file_path):\n",
    "    raise FileNotFoundError(f\"{file_path} not found. Ensure the file exists in the correct directory.\")\n",
    "\n",
    "features_df = pd.read_csv(file_path)"
   ]
  },
  {
   "cell_type": "code",
   "execution_count": 3,
   "metadata": {},
   "outputs": [],
   "source": [
    "# # Validation: Ensure feature columns are consistent\n",
    "# expected_columns = [\n",
    "#     'popularity', 'duration_ms', 'danceability', 'energy', 'key',\n",
    "#     'loudness', 'speechiness', 'acousticness', 'instrumentalness',\n",
    "#     'liveness', 'valence', 'tempo'\n",
    "# ]\n",
    "\n",
    "# missing_columns = set(expected_columns) - set(features_df.columns)\n",
    "# extra_columns = set(features_df.columns) - set(expected_columns)\n",
    "\n",
    "# if missing_columns:\n",
    "#     raise ValueError(f\"Missing columns in features_dataset.csv: {missing_columns}\")\n",
    "# if extra_columns:\n",
    "#     print(f\"Warning: Extra columns in features_dataset.csv will be ignored: {extra_columns}\")"
   ]
  },
  {
   "cell_type": "code",
   "execution_count": 4,
   "metadata": {},
   "outputs": [],
   "source": [
    "# Define mood labels\n",
    "def assign_mood(row):\n",
    "    if row['valence'] > 0.6 and row['energy'] > 0.7:\n",
    "        return 'energetic'\n",
    "    elif row['valence'] < 0.4 and row['energy'] < 0.5:\n",
    "        return 'sad'\n",
    "    elif row['valence'] > 0.6:\n",
    "        return 'happy'\n",
    "    else:\n",
    "        return 'calm'\n",
    "\n",
    "features_df['mood'] = features_df.apply(assign_mood, axis=1)"
   ]
  },
  {
   "cell_type": "code",
   "execution_count": 5,
   "metadata": {},
   "outputs": [],
   "source": [
    "# Train-test split for raw dataset\n",
    "train_df, test_df = train_test_split(features_df, test_size=0.2, random_state=42)"
   ]
  },
  {
   "cell_type": "code",
   "execution_count": 6,
   "metadata": {},
   "outputs": [],
   "source": [
    "# Fit scaler and encoder on training data only\n",
    "scaler = StandardScaler()\n",
    "label_encoder = LabelEncoder()"
   ]
  },
  {
   "cell_type": "code",
   "execution_count": 7,
   "metadata": {},
   "outputs": [],
   "source": [
    "# Preprocess training data\n",
    "X_train = train_df.drop(columns=['mood', 'mood_encoded'], errors='ignore')\n",
    "y_train = label_encoder.fit_transform(train_df['mood'])\n",
    "\n",
    "X_train_scaled = scaler.fit_transform(X_train)"
   ]
  },
  {
   "cell_type": "code",
   "execution_count": 8,
   "metadata": {},
   "outputs": [],
   "source": [
    "# Save scaler and encoder\n",
    "joblib.dump(scaler, 'scaler.pkl')\n",
    "with open('label_encoder.pkl', 'wb') as f:\n",
    "    pickle.dump(label_encoder, f)"
   ]
  },
  {
   "cell_type": "code",
   "execution_count": 9,
   "metadata": {},
   "outputs": [],
   "source": [
    "# Preprocess test data using the same scaler and encoder\n",
    "X_test = test_df.drop(columns=['mood', 'mood_encoded'], errors='ignore')\n",
    "y_test = label_encoder.transform(test_df['mood'])\n",
    "X_test_scaled = scaler.transform(X_test)"
   ]
  },
  {
   "cell_type": "code",
   "execution_count": 10,
   "metadata": {},
   "outputs": [],
   "source": [
    "# Further split training data into training and validation sets\n",
    "X_train, X_val, y_train, y_val = train_test_split(X_train_scaled, y_train, test_size=0.2, random_state=42)"
   ]
  },
  {
   "cell_type": "code",
   "execution_count": 11,
   "metadata": {},
   "outputs": [],
   "source": [
    "# Convert to PyTorch tensors\n",
    "X_train_tensor = torch.tensor(X_train, dtype=torch.float32)\n",
    "y_train_tensor = torch.tensor(y_train, dtype=torch.long)\n",
    "\n",
    "X_val_tensor = torch.tensor(X_val, dtype=torch.float32)\n",
    "y_val_tensor = torch.tensor(y_val, dtype=torch.long)\n",
    "\n",
    "X_test_tensor = torch.tensor(X_test_scaled, dtype=torch.float32)\n",
    "y_test_tensor = torch.tensor(y_test, dtype=torch.long)"
   ]
  },
  {
   "cell_type": "code",
   "execution_count": 12,
   "metadata": {},
   "outputs": [],
   "source": [
    "# DataLoaders\n",
    "train_loader = DataLoader(TensorDataset(X_train_tensor, y_train_tensor), batch_size=32, shuffle=True)\n",
    "val_loader = DataLoader(TensorDataset(X_val_tensor, y_val_tensor), batch_size=32, shuffle=False)\n",
    "test_loader = DataLoader(TensorDataset(X_test_tensor, y_test_tensor), batch_size=32, shuffle=False)"
   ]
  },
  {
   "cell_type": "code",
   "execution_count": 13,
   "metadata": {},
   "outputs": [],
   "source": [
    "# **Step 2: Define the Model**\n",
    "class MoodPredictorNN(nn.Module):\n",
    "    def __init__(self, input_size, num_classes):\n",
    "        super(MoodPredictorNN, self).__init__()\n",
    "        self.fc1 = nn.Linear(input_size, 64)\n",
    "        self.fc2 = nn.Linear(64, 32)\n",
    "        self.fc3 = nn.Linear(32, num_classes)\n",
    "    \n",
    "    def forward(self, x):\n",
    "        x = F.relu(self.fc1(x))\n",
    "        x = F.relu(self.fc2(x))\n",
    "        x = self.fc3(x)\n",
    "        return x\n",
    "\n",
    "input_size = X_train_tensor.shape[1]\n",
    "num_classes = len(label_encoder.classes_)\n",
    "model = MoodPredictorNN(input_size, num_classes)\n",
    "\n",
    "criterion = nn.CrossEntropyLoss()\n",
    "optimizer = torch.optim.Adam(model.parameters(), lr=0.001)"
   ]
  },
  {
   "cell_type": "code",
   "execution_count": 14,
   "metadata": {},
   "outputs": [
    {
     "name": "stdout",
     "output_type": "stream",
     "text": [
      "Epoch 1/50, Training Loss: 0.1646, Validation Loss: 0.0607\n",
      "Epoch 2/50, Training Loss: 0.0488, Validation Loss: 0.0428\n",
      "Epoch 3/50, Training Loss: 0.0366, Validation Loss: 0.0377\n",
      "Epoch 4/50, Training Loss: 0.0317, Validation Loss: 0.0327\n",
      "Epoch 5/50, Training Loss: 0.0282, Validation Loss: 0.0307\n",
      "Epoch 6/50, Training Loss: 0.0260, Validation Loss: 0.0247\n",
      "Epoch 7/50, Training Loss: 0.0245, Validation Loss: 0.0275\n",
      "Epoch 8/50, Training Loss: 0.0227, Validation Loss: 0.0230\n",
      "Epoch 9/50, Training Loss: 0.0222, Validation Loss: 0.0282\n",
      "Epoch 10/50, Training Loss: 0.0208, Validation Loss: 0.0210\n",
      "Epoch 11/50, Training Loss: 0.0206, Validation Loss: 0.0189\n",
      "Epoch 12/50, Training Loss: 0.0202, Validation Loss: 0.0220\n",
      "Epoch 13/50, Training Loss: 0.0201, Validation Loss: 0.0318\n",
      "Epoch 14/50, Training Loss: 0.0194, Validation Loss: 0.0208\n",
      "Epoch 15/50, Training Loss: 0.0196, Validation Loss: 0.0218\n",
      "Epoch 16/50, Training Loss: 0.0175, Validation Loss: 0.0170\n",
      "Epoch 17/50, Training Loss: 0.0175, Validation Loss: 0.0272\n",
      "Epoch 18/50, Training Loss: 0.0179, Validation Loss: 0.0274\n",
      "Epoch 19/50, Training Loss: 0.0179, Validation Loss: 0.0211\n",
      "Epoch 20/50, Training Loss: 0.0177, Validation Loss: 0.0243\n",
      "Epoch 21/50, Training Loss: 0.0167, Validation Loss: 0.0215\n",
      "Epoch 22/50, Training Loss: 0.0173, Validation Loss: 0.0205\n",
      "Epoch 23/50, Training Loss: 0.0169, Validation Loss: 0.0148\n",
      "Epoch 24/50, Training Loss: 0.0166, Validation Loss: 0.0187\n",
      "Epoch 25/50, Training Loss: 0.0153, Validation Loss: 0.0249\n",
      "Epoch 26/50, Training Loss: 0.0157, Validation Loss: 0.0265\n",
      "Epoch 27/50, Training Loss: 0.0148, Validation Loss: 0.0260\n",
      "Epoch 28/50, Training Loss: 0.0153, Validation Loss: 0.0274\n",
      "Epoch 29/50, Training Loss: 0.0155, Validation Loss: 0.0191\n",
      "Epoch 30/50, Training Loss: 0.0149, Validation Loss: 0.0164\n",
      "Epoch 31/50, Training Loss: 0.0154, Validation Loss: 0.0201\n",
      "Epoch 32/50, Training Loss: 0.0143, Validation Loss: 0.0225\n",
      "Epoch 33/50, Training Loss: 0.0147, Validation Loss: 0.0231\n",
      "Epoch 34/50, Training Loss: 0.0140, Validation Loss: 0.0182\n",
      "Epoch 35/50, Training Loss: 0.0138, Validation Loss: 0.0159\n",
      "Epoch 36/50, Training Loss: 0.0148, Validation Loss: 0.0227\n",
      "Epoch 37/50, Training Loss: 0.0146, Validation Loss: 0.0158\n",
      "Epoch 38/50, Training Loss: 0.0129, Validation Loss: 0.0179\n",
      "Epoch 39/50, Training Loss: 0.0143, Validation Loss: 0.0217\n",
      "Epoch 40/50, Training Loss: 0.0143, Validation Loss: 0.0245\n",
      "Epoch 41/50, Training Loss: 0.0135, Validation Loss: 0.0260\n",
      "Epoch 42/50, Training Loss: 0.0133, Validation Loss: 0.0164\n",
      "Epoch 43/50, Training Loss: 0.0130, Validation Loss: 0.0188\n",
      "Epoch 44/50, Training Loss: 0.0139, Validation Loss: 0.0198\n",
      "Epoch 45/50, Training Loss: 0.0128, Validation Loss: 0.0152\n",
      "Epoch 46/50, Training Loss: 0.0124, Validation Loss: 0.0179\n",
      "Epoch 47/50, Training Loss: 0.0128, Validation Loss: 0.0189\n",
      "Epoch 48/50, Training Loss: 0.0125, Validation Loss: 0.0180\n",
      "Epoch 49/50, Training Loss: 0.0132, Validation Loss: 0.0194\n",
      "Epoch 50/50, Training Loss: 0.0113, Validation Loss: 0.0171\n"
     ]
    }
   ],
   "source": [
    "# **Step 3: Train the Model**\n",
    "training_loss = []\n",
    "validation_loss = []\n",
    "num_epochs = 50\n",
    "\n",
    "for epoch in range(num_epochs):\n",
    "    # Training phase\n",
    "    model.train()\n",
    "    total_loss = 0\n",
    "    for X_batch, y_batch in train_loader:\n",
    "        optimizer.zero_grad()\n",
    "        outputs = model(X_batch)\n",
    "        loss = criterion(outputs, y_batch)\n",
    "        loss.backward()\n",
    "        optimizer.step()\n",
    "        total_loss += loss.item()\n",
    "    training_loss.append(total_loss / len(train_loader))\n",
    "\n",
    "    # Validation phase\n",
    "    model.eval()\n",
    "    val_loss = 0\n",
    "    with torch.no_grad():\n",
    "        for X_val_batch, y_val_batch in val_loader:\n",
    "            val_outputs = model(X_val_batch)\n",
    "            val_loss += criterion(val_outputs, y_val_batch).item()\n",
    "    validation_loss.append(val_loss / len(val_loader))\n",
    "\n",
    "    print(f\"Epoch {epoch+1}/{num_epochs}, Training Loss: {training_loss[-1]:.4f}, Validation Loss: {validation_loss[-1]:.4f}\")\n"
   ]
  },
  {
   "cell_type": "code",
   "execution_count": 15,
   "metadata": {},
   "outputs": [
    {
     "data": {
      "image/png": "[encoded data removed]",
      "text/plain": [
       "<Figure size 640x480 with 1 Axes>"
      ]
     },
     "metadata": {},
     "output_type": "display_data"
    },
    {
     "name": "stdout",
     "output_type": "stream",
     "text": [
      "Model saved as mood_prediction_model.pth\n"
     ]
    }
   ],
   "source": [
    "# **Step 4: Save and Plot Loss**\n",
    "plt.plot(training_loss, label=\"Training Loss\")\n",
    "plt.plot(validation_loss, label=\"Validation Loss\")\n",
    "plt.xlabel(\"Epochs\")\n",
    "plt.ylabel(\"Loss\")\n",
    "plt.legend()\n",
    "plt.title(\"Training and Validation Loss\")\n",
    "plt.savefig(\"training_validation_loss.png\")\n",
    "plt.show()\n",
    "\n",
    "torch.save(model.state_dict(), 'mood_prediction_model.pth')\n",
    "print(\"Model saved as mood_prediction_model.pth\")"
   ]
  },
  {
   "cell_type": "code",
   "execution_count": 16,
   "metadata": {},
   "outputs": [],
   "source": [
    "# **Step 5: Evaluate the Model**\n",
    "model.eval()\n",
    "y_true = []\n",
    "y_pred = []"
   ]
  },
  {
   "cell_type": "code",
   "execution_count": 17,
   "metadata": {},
   "outputs": [],
   "source": [
    "with torch.no_grad():\n",
    "    for X_batch, y_batch in test_loader:\n",
    "        outputs = model(X_batch)\n",
    "        _, predicted = torch.max(outputs, 1)\n",
    "        y_true.extend(y_batch.numpy())\n",
    "        y_pred.extend(predicted.numpy())"
   ]
  },
  {
   "cell_type": "code",
   "execution_count": 18,
   "metadata": {},
   "outputs": [
    {
     "name": "stdout",
     "output_type": "stream",
     "text": [
      "              precision    recall  f1-score   support\n",
      "\n",
      "        calm       0.99      1.00      1.00     11142\n",
      "   energetic       0.99      1.00      1.00      4575\n",
      "       happy       0.99      0.99      0.99      3259\n",
      "         sad       1.00      0.99      0.99      3824\n",
      "\n",
      "    accuracy                           0.99     22800\n",
      "   macro avg       0.99      0.99      0.99     22800\n",
      "weighted avg       0.99      0.99      0.99     22800\n",
      "\n"
     ]
    }
   ],
   "source": [
    "from sklearn.metrics import classification_report, confusion_matrix\n",
    "import seaborn as sns\n",
    "\n",
    "print(classification_report(y_true, y_pred, target_names=label_encoder.classes_))"
   ]
  },
  {
   "cell_type": "code",
   "execution_count": 19,
   "metadata": {},
   "outputs": [
    {
     "data": {
      "image/png": "[encoded data removed]",
      "text/plain": [
       "<Figure size 640x480 with 2 Axes>"
      ]
     },
     "metadata": {},
     "output_type": "display_data"
    }
   ],
   "source": [
    "cm = confusion_matrix(y_true, y_pred)\n",
    "sns.heatmap(cm, annot=True, fmt='d', cmap='Blues')\n",
    "plt.xlabel('Predicted')\n",
    "plt.ylabel('True')\n",
    "plt.title('Confusion Matrix')\n",
    "plt.savefig(\"confusion_matrix.png\")\n",
    "plt.show()"
   ]
  }
 ],
 "metadata": {
  "kernelspec": {
   "display_name": "myenv",
   "language": "python",
   "name": "python3"
  },
  "language_info": {
   "codemirror_mode": {
    "name": "ipython",
    "version": 3
   },
   "file_extension": ".py",
   "mimetype": "text/x-python",
   "name": "python",
   "nbconvert_exporter": "python",
   "pygments_lexer": "ipython3",
   "version": "3.12.5"
  }
 },
 "nbformat": 4,
 "nbformat_minor": 2
}
