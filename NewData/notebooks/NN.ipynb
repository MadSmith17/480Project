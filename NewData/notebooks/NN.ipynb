{
 "cells": [
  {
   "cell_type": "code",
   "execution_count": 3,
   "metadata": {},
   "outputs": [],
   "source": [
    "import pandas as pd\n",
    "import torch\n",
    "from sklearn.model_selection import train_test_split\n",
    "from sklearn.preprocessing import StandardScaler, LabelEncoder\n",
    "from torch.utils.data import Dataset, DataLoader, TensorDataset\n",
    "import torch.nn as nn\n",
    "import torch.nn.functional as F\n",
    "import os"
   ]
  },
  {
   "cell_type": "code",
   "execution_count": null,
   "metadata": {},
   "outputs": [],
   "source": [
    "# Load the features dataset\n",
    "file_path = './features_dataset.csv'\n",
    "if not os.path.exists(file_path):\n",
    "    raise FileNotFoundError(f\"{file_path} not found. Ensure the file exists in the correct directory.\")\n",
    "\n",
    "features_df = pd.read_csv(file_path)"
   ]
  },
  {
   "cell_type": "code",
   "execution_count": null,
   "metadata": {},
   "outputs": [],
   "source": [
    "# Define mood labels\n",
    "def assign_mood(row):\n",
    "    if row['valence'] > 0.6 and row['energy'] > 0.7:\n",
    "        return 'energetic'\n",
    "    elif row['valence'] < 0.4 and row['energy'] < 0.5:\n",
    "        return 'sad'\n",
    "    elif row['valence'] > 0.6:\n",
    "        return 'happy'\n",
    "    else:\n",
    "        return 'calm'\n",
    "\n",
    "features_df['mood'] = features_df.apply(assign_mood, axis=1)"
   ]
  },
  {
   "cell_type": "code",
   "execution_count": null,
   "metadata": {},
   "outputs": [],
   "source": [
    "# Encode labels\n",
    "label_encoder = LabelEncoder()\n",
    "features_df['mood_encoded'] = label_encoder.fit_transform(features_df['mood'])\n"
   ]
  },
  {
   "cell_type": "code",
   "execution_count": 7,
   "metadata": {},
   "outputs": [],
   "source": [
    "# Save the label encoder for testing later\n",
    "import pickle\n",
    "with open('label_encoder.pkl', 'wb') as f:\n",
    "    pickle.dump(label_encoder, f)"
   ]
  },
  {
   "cell_type": "code",
   "execution_count": null,
   "metadata": {},
   "outputs": [],
   "source": [
    "# Select features and target\n",
    "# Drop unnecessary columns\n",
    "X = features_df.drop(columns=['mood', 'mood_encoded'], errors='ignore')  # Features\n",
    "y = features_df['mood_encoded']  # Target"
   ]
  },
  {
   "cell_type": "code",
   "execution_count": null,
   "metadata": {},
   "outputs": [],
   "source": [
    "# Normalize features\n",
    "scaler = StandardScaler()\n",
    "X_scaled = scaler.fit_transform(X)"
   ]
  },
  {
   "cell_type": "code",
   "execution_count": 10,
   "metadata": {},
   "outputs": [
    {
     "data": {
      "text/plain": [
       "['scaler.pkl']"
      ]
     },
     "execution_count": 10,
     "metadata": {},
     "output_type": "execute_result"
    }
   ],
   "source": [
    "# Save the scaler for testing later\n",
    "import joblib\n",
    "joblib.dump(scaler, 'scaler.pkl')"
   ]
  },
  {
   "cell_type": "code",
   "execution_count": null,
   "metadata": {},
   "outputs": [],
   "source": [
    "# Split into train and test sets\n",
    "X_train, X_test, y_train, y_test = train_test_split(X_scaled, y, test_size=0.2, random_state=42)"
   ]
  },
  {
   "cell_type": "code",
   "execution_count": null,
   "metadata": {},
   "outputs": [],
   "source": [
    "# Convert to PyTorch tensors\n",
    "X_train_tensor = torch.tensor(X_train, dtype=torch.float32)\n",
    "y_train_tensor = torch.tensor(y_train.values, dtype=torch.long)\n",
    "X_test_tensor = torch.tensor(X_test, dtype=torch.float32)\n",
    "y_test_tensor = torch.tensor(y_test.values, dtype=torch.long)"
   ]
  },
  {
   "cell_type": "code",
   "execution_count": null,
   "metadata": {},
   "outputs": [],
   "source": [
    "# DataLoaders\n",
    "train_dataset = TensorDataset(X_train_tensor, y_train_tensor)\n",
    "test_dataset = TensorDataset(X_test_tensor, y_test_tensor)\n",
    "train_loader = DataLoader(train_dataset, batch_size=32, shuffle=True)\n",
    "test_loader = DataLoader(test_dataset, batch_size=32, shuffle=False)"
   ]
  },
  {
   "cell_type": "code",
   "execution_count": null,
   "metadata": {},
   "outputs": [],
   "source": [
    "# Our NN\n",
    "class MoodPredictorNN(nn.Module):\n",
    "    def __init__(self, input_size, num_classes):\n",
    "        super(MoodPredictorNN, self).__init__()\n",
    "        self.fc1 = nn.Linear(input_size, 64)\n",
    "        self.fc2 = nn.Linear(64, 32)\n",
    "        self.fc3 = nn.Linear(32, num_classes)\n",
    "    \n",
    "    def forward(self, x):\n",
    "        x = F.relu(self.fc1(x))\n",
    "        x = F.relu(self.fc2(x))\n",
    "        x = self.fc3(x)  \n",
    "        return x\n",
    "\n",
    "\n",
    "# class MoodPredictorNN(nn.Module):\n",
    "#     def __init__(self, input_size, num_classes): # Input size - 12 features for each song\n",
    "#         super(MoodPredictorNN, self).__init__()\n",
    "#         self.fc1 = nn.Linear(input_size, 64)  # Input → Hidden Layer 1\n",
    "#         self.fc2 = nn.Linear(64, 32)         # Hidden Layer 1 → Hidden Layer 2\n",
    "#         self.fc3 = nn.Linear(32, num_classes)  # Hidden Layer 2 → Output Layer\n",
    "\n",
    "#     def forward(self, x):\n",
    "#         x = F.relu(self.fc1(x))  # ReLU Activation for Layer #1\n",
    "#         x = F.relu(self.fc2(x))  # ReLU Activation for Layer #2\n",
    "#         x = self.fc3(x)          # Output logits \n",
    "#         return x"
   ]
  },
  {
   "cell_type": "code",
   "execution_count": null,
   "metadata": {},
   "outputs": [],
   "source": [
    "# Initialize model\n",
    "input_size = X_train_tensor.shape[1]\n",
    "num_classes = len(label_encoder.classes_)\n",
    "model = MoodPredictorNN(input_size, num_classes)"
   ]
  },
  {
   "cell_type": "code",
   "execution_count": null,
   "metadata": {},
   "outputs": [],
   "source": [
    "# Loss and optimizer\n",
    "criterion = nn.CrossEntropyLoss()\n",
    "optimizer = torch.optim.Adam(model.parameters(), lr=0.001)"
   ]
  },
  {
   "cell_type": "code",
   "execution_count": null,
   "metadata": {},
   "outputs": [
    {
     "name": "stdout",
     "output_type": "stream",
     "text": [
      "Epoch 1/20, Loss: 0.1429\n",
      "Epoch 2/20, Loss: 0.0418\n",
      "Epoch 3/20, Loss: 0.0323\n",
      "Epoch 4/20, Loss: 0.0277\n",
      "Epoch 5/20, Loss: 0.0255\n",
      "Epoch 6/20, Loss: 0.0247\n",
      "Epoch 7/20, Loss: 0.0227\n",
      "Epoch 8/20, Loss: 0.0221\n",
      "Epoch 9/20, Loss: 0.0210\n",
      "Epoch 10/20, Loss: 0.0205\n",
      "Epoch 11/20, Loss: 0.0206\n",
      "Epoch 12/20, Loss: 0.0202\n",
      "Epoch 13/20, Loss: 0.0195\n",
      "Epoch 14/20, Loss: 0.0181\n",
      "Epoch 15/20, Loss: 0.0187\n",
      "Epoch 16/20, Loss: 0.0185\n",
      "Epoch 17/20, Loss: 0.0180\n",
      "Epoch 18/20, Loss: 0.0178\n",
      "Epoch 19/20, Loss: 0.0180\n",
      "Epoch 20/20, Loss: 0.0174\n"
     ]
    }
   ],
   "source": [
    "# Training loop\n",
    "num_epochs = 20\n",
    "for epoch in range(num_epochs):\n",
    "    model.train()\n",
    "    total_loss = 0\n",
    "    for X_batch, y_batch in train_loader:\n",
    "        # Forward pass\n",
    "        outputs = model(X_batch)    # Forward pass\n",
    "        loss = criterion(outputs, y_batch)  # Calc loss\n",
    "        \n",
    "        # Backward pass\n",
    "        optimizer.zero_grad()   # Clear gradients\n",
    "        loss.backward()     # Backpropagation\n",
    "        optimizer.step()    # Update weights\n",
    "        \n",
    "        total_loss += loss.item()\n",
    "    \n",
    "    print(f\"Epoch {epoch+1}/{num_epochs}, Loss: {total_loss/len(train_loader):.4f}\")\n"
   ]
  },
  {
   "cell_type": "code",
   "execution_count": null,
   "metadata": {},
   "outputs": [
    {
     "name": "stdout",
     "output_type": "stream",
     "text": [
      "Test Accuracy: 98.68%\n"
     ]
    }
   ],
   "source": [
    "# Model Evaluation\n",
    "model.eval()\n",
    "correct = 0\n",
    "total = 0\n",
    "with torch.no_grad():\n",
    "    for X_batch, y_batch in test_loader:\n",
    "        outputs = model(X_batch)\n",
    "        _, predicted = torch.max(outputs, 1)\n",
    "        total += y_batch.size(0)\n",
    "        correct += (predicted == y_batch).sum().item()\n",
    "\n",
    "accuracy = correct / total\n",
    "print(f\"Test Accuracy: {accuracy * 100:.2f}%\")\n"
   ]
  },
  {
   "cell_type": "code",
   "execution_count": null,
   "metadata": {},
   "outputs": [
    {
     "name": "stdout",
     "output_type": "stream",
     "text": [
      "Model saved as mood_prediction_model.pth\n"
     ]
    }
   ],
   "source": [
    "# Save the model\n",
    "torch.save(model.state_dict(), 'mood_prediction_model.pth')\n",
    "print(\"Model saved as mood_prediction_model.pth\")"
   ]
  },
  {
   "cell_type": "code",
   "execution_count": null,
   "metadata": {},
   "outputs": [],
   "source": []
  }
 ],
 "metadata": {
  "language_info": {
   "name": "python"
  }
 },
 "nbformat": 4,
 "nbformat_minor": 2
}
