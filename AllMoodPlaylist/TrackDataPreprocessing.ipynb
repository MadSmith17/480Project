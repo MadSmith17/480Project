{
 "cells": [
  {
   "cell_type": "code",
   "execution_count": null,
   "metadata": {},
   "outputs": [],
   "source": [
    "# Import libraries\n",
    "import pandas as pd\n",
    "import seaborn as sns\n",
    "import matplotlib.pyplot as plt\n",
    "from sklearn.preprocessing import StandardScaler"
   ]
  },
  {
   "cell_type": "code",
   "execution_count": null,
   "metadata": {},
   "outputs": [
    {
     "name": "stdout",
     "output_type": "stream",
     "text": [
      "Loading fetched_tracks.csv...\n"
     ]
    }
   ],
   "source": [
    "# Load fetched tracks\n",
    "data = pd.read_csv(\"fetched_tracks.csv\")"
   ]
  },
  {
   "cell_type": "code",
   "execution_count": null,
   "metadata": {},
   "outputs": [
    {
     "name": "stdout",
     "output_type": "stream",
     "text": [
      "Sample of the data:\n"
     ]
    },
    {
     "data": {
      "text/html": [
       "<div>\n",
       "<style scoped>\n",
       "    .dataframe tbody tr th:only-of-type {\n",
       "        vertical-align: middle;\n",
       "    }\n",
       "\n",
       "    .dataframe tbody tr th {\n",
       "        vertical-align: top;\n",
       "    }\n",
       "\n",
       "    .dataframe thead th {\n",
       "        text-align: right;\n",
       "    }\n",
       "</style>\n",
       "<table border=\"1\" class=\"dataframe\">\n",
       "  <thead>\n",
       "    <tr style=\"text-align: right;\">\n",
       "      <th></th>\n",
       "      <th>Track Name</th>\n",
       "      <th>Artist</th>\n",
       "      <th>Track URI</th>\n",
       "      <th>danceability</th>\n",
       "      <th>energy</th>\n",
       "      <th>valence</th>\n",
       "      <th>acousticness</th>\n",
       "      <th>tempo</th>\n",
       "      <th>speechiness</th>\n",
       "      <th>liveness</th>\n",
       "    </tr>\n",
       "  </thead>\n",
       "  <tbody>\n",
       "    <tr>\n",
       "      <th>0</th>\n",
       "      <td>Die With A Smile</td>\n",
       "      <td>Lady Gaga</td>\n",
       "      <td>spotify:track:2plbrEY59IikOBgBGLjaoe</td>\n",
       "      <td>0.521</td>\n",
       "      <td>0.592</td>\n",
       "      <td>0.535</td>\n",
       "      <td>0.3080</td>\n",
       "      <td>157.969</td>\n",
       "      <td>0.0304</td>\n",
       "      <td>0.122</td>\n",
       "    </tr>\n",
       "    <tr>\n",
       "      <th>1</th>\n",
       "      <td>BIRDS OF A FEATHER</td>\n",
       "      <td>Billie Eilish</td>\n",
       "      <td>spotify:track:6dOtVTDdiauQNBQEDOtlAB</td>\n",
       "      <td>0.747</td>\n",
       "      <td>0.507</td>\n",
       "      <td>0.438</td>\n",
       "      <td>0.2000</td>\n",
       "      <td>104.978</td>\n",
       "      <td>0.0358</td>\n",
       "      <td>0.117</td>\n",
       "    </tr>\n",
       "    <tr>\n",
       "      <th>2</th>\n",
       "      <td>That’s So True</td>\n",
       "      <td>Gracie Abrams</td>\n",
       "      <td>spotify:track:7ne4VBA60CxGM75vw0EYad</td>\n",
       "      <td>0.554</td>\n",
       "      <td>0.808</td>\n",
       "      <td>0.372</td>\n",
       "      <td>0.2140</td>\n",
       "      <td>108.548</td>\n",
       "      <td>0.0368</td>\n",
       "      <td>0.159</td>\n",
       "    </tr>\n",
       "    <tr>\n",
       "      <th>3</th>\n",
       "      <td>Taste</td>\n",
       "      <td>Sabrina Carpenter</td>\n",
       "      <td>spotify:track:1d7Ptw3qYcfpdLNL5REhtJ</td>\n",
       "      <td>0.670</td>\n",
       "      <td>0.910</td>\n",
       "      <td>0.786</td>\n",
       "      <td>0.0939</td>\n",
       "      <td>112.966</td>\n",
       "      <td>0.0634</td>\n",
       "      <td>0.304</td>\n",
       "    </tr>\n",
       "    <tr>\n",
       "      <th>4</th>\n",
       "      <td>APT.</td>\n",
       "      <td>ROSÉ</td>\n",
       "      <td>spotify:track:5vNRhkKd0yEAg8suGBpjeY</td>\n",
       "      <td>0.777</td>\n",
       "      <td>0.783</td>\n",
       "      <td>0.939</td>\n",
       "      <td>0.0283</td>\n",
       "      <td>149.027</td>\n",
       "      <td>0.2600</td>\n",
       "      <td>0.355</td>\n",
       "    </tr>\n",
       "  </tbody>\n",
       "</table>\n",
       "</div>"
      ],
      "text/plain": [
       "           Track Name             Artist  \\\n",
       "0    Die With A Smile          Lady Gaga   \n",
       "1  BIRDS OF A FEATHER      Billie Eilish   \n",
       "2      That’s So True      Gracie Abrams   \n",
       "3               Taste  Sabrina Carpenter   \n",
       "4                APT.               ROSÉ   \n",
       "\n",
       "                              Track URI  danceability  energy  valence  \\\n",
       "0  spotify:track:2plbrEY59IikOBgBGLjaoe         0.521   0.592    0.535   \n",
       "1  spotify:track:6dOtVTDdiauQNBQEDOtlAB         0.747   0.507    0.438   \n",
       "2  spotify:track:7ne4VBA60CxGM75vw0EYad         0.554   0.808    0.372   \n",
       "3  spotify:track:1d7Ptw3qYcfpdLNL5REhtJ         0.670   0.910    0.786   \n",
       "4  spotify:track:5vNRhkKd0yEAg8suGBpjeY         0.777   0.783    0.939   \n",
       "\n",
       "   acousticness    tempo  speechiness  liveness  \n",
       "0        0.3080  157.969       0.0304     0.122  \n",
       "1        0.2000  104.978       0.0358     0.117  \n",
       "2        0.2140  108.548       0.0368     0.159  \n",
       "3        0.0939  112.966       0.0634     0.304  \n",
       "4        0.0283  149.027       0.2600     0.355  "
      ]
     },
     "metadata": {},
     "output_type": "display_data"
    }
   ],
   "source": [
    "# Summary statistics\n",
    "print(data.describe())"
   ]
  },
  {
   "cell_type": "code",
   "execution_count": null,
   "metadata": {},
   "outputs": [
    {
     "name": "stdout",
     "output_type": "stream",
     "text": [
      "\n",
      "Checking for missing values...\n",
      "Track Name      0\n",
      "Artist          0\n",
      "Track URI       0\n",
      "danceability    0\n",
      "energy          0\n",
      "valence         0\n",
      "acousticness    0\n",
      "tempo           0\n",
      "speechiness     0\n",
      "liveness        0\n",
      "dtype: int64\n"
     ]
    }
   ],
   "source": [
    "# Check for missing values\n",
    "print(data.isnull().sum())"
   ]
  },
  {
   "cell_type": "code",
   "execution_count": null,
   "metadata": {},
   "outputs": [],
   "source": [
    "# Pairplot for feature visualization\n",
    "sns.pairplot(data, diag_kind='kde')\n",
    "plt.suptitle(\"Audio Features Pairplot\", y=1.02)\n",
    "plt.show()"
   ]
  },
  {
   "cell_type": "code",
   "execution_count": null,
   "metadata": {},
   "outputs": [],
   "source": [
    "# Correlation matrix heatmap\n",
    "correlation_matrix = data.corr()\n",
    "sns.heatmap(correlation_matrix, annot=True, cmap=\"coolwarm\", fmt=\".2f\")\n",
    "plt.title(\"Correlation Matrix of Audio Features\")\n",
    "plt.show()"
   ]
  },
  {
   "cell_type": "code",
   "execution_count": null,
   "metadata": {},
   "outputs": [],
   "source": [
    "features = [\"danceability\", \"energy\", \"valence\", \"acousticness\", \"tempo\", \"speechiness\", \"liveness\"]\n",
    "scaler = StandardScaler()\n",
    "data[features] = scaler.fit_transform(data[features])"
   ]
  },
  {
   "cell_type": "code",
   "execution_count": null,
   "metadata": {},
   "outputs": [],
   "source": [
    "# Save preprocessed data\n",
    "data.to_csv(\"preprocessed_tracks.csv\", index=False)\n",
    "print(\"Preprocessed data saved to preprocessed_tracks.csv\")"
   ]
  }
 ],
 "metadata": {
  "kernelspec": {
   "display_name": "myenv",
   "language": "python",
   "name": "python3"
  },
  "language_info": {
   "codemirror_mode": {
    "name": "ipython",
    "version": 3
   },
   "file_extension": ".py",
   "mimetype": "text/x-python",
   "name": "python",
   "nbconvert_exporter": "python",
   "pygments_lexer": "ipython3",
   "version": "3.12.5"
  }
 },
 "nbformat": 4,
 "nbformat_minor": 2
}
